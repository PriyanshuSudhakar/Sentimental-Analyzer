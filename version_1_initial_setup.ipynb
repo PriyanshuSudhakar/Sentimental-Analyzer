{
 "cells": [
  {
   "cell_type": "code",
   "execution_count": null,
   "id": "11610938",
   "metadata": {},
   "outputs": [],
   "source": [
    "\n",
    "# Version 1 - Initial setup\n",
    "import pandas as pd\n",
    "\n",
    "# Load dataset\n",
    "df = pd.read_csv('dataset.csv')\n",
    "df.head()\n"
   ]
  }
 ],
 "metadata": {},
 "nbformat": 4,
 "nbformat_minor": 5
}
